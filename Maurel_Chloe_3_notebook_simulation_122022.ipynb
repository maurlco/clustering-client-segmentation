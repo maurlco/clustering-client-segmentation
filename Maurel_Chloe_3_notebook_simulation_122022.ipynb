version https://git-lfs.github.com/spec/v1
oid sha256:4d10877276495c517ebbd1fddaf7130bb1f2b696349b4f5d4cc52a5a7e0a995b
size 3900982
