version https://git-lfs.github.com/spec/v1
oid sha256:cc80149acd621bcfb05f7b3f560bc54fbcb437d1c5a440deb0bd970aa18cf151
size 20587249
