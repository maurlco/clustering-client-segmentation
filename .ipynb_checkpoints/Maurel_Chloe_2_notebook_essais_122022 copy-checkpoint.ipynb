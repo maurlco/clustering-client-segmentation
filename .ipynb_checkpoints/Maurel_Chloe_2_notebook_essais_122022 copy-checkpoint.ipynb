version https://git-lfs.github.com/spec/v1
oid sha256:256f49a4f766e002141b60975b5b3d9a73032292be1e8c1688957c415afec99b
size 82151924
