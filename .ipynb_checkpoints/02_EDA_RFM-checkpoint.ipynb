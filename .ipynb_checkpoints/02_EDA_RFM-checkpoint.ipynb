version https://git-lfs.github.com/spec/v1
oid sha256:f750483297220a0eb30d4d15431dc6ff8726248d97f5cb9f9222323f39e682ec
size 71504
