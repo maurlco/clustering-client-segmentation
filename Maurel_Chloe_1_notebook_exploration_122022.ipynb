version https://git-lfs.github.com/spec/v1
oid sha256:b12111dd18c59a06fa667ea191294154fdce963d5006cbe4ee022639e369938f
size 334811
